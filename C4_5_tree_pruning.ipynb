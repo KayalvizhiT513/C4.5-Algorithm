{
  "nbformat": 4,
  "nbformat_minor": 0,
  "metadata": {
    "colab": {
      "provenance": [],
      "include_colab_link": true
    },
    "kernelspec": {
      "name": "python3",
      "display_name": "Python 3"
    },
    "language_info": {
      "name": "python"
    }
  },
  "cells": [
    {
      "cell_type": "markdown",
      "metadata": {
        "id": "view-in-github",
        "colab_type": "text"
      },
      "source": [
        "<a href=\"https://colab.research.google.com/github/KayalvizhiT513/C4.5-Algorithm/blob/main/C4_5_tree_pruning.ipynb\" target=\"_parent\"><img src=\"https://colab.research.google.com/assets/colab-badge.svg\" alt=\"Open In Colab\"/></a>"
      ]
    },
    {
      "cell_type": "code",
      "source": [
        "from graphviz import Digraph\n",
        "import matplotlib.pyplot as plt\n",
        "import math\n",
        "import pandas as pd\n",
        "from math import log2\n",
        "import numpy as np\n",
        "import copy\n",
        "from scipy.optimize import minimize_scalar\n",
        "from scipy.stats import binom"
      ],
      "metadata": {
        "id": "SX4F2OrYphfF"
      },
      "execution_count": 1,
      "outputs": []
    },
    {
      "cell_type": "code",
      "execution_count": 2,
      "metadata": {
        "id": "Tf1y40X6YPJf"
      },
      "outputs": [],
      "source": [
        "class TreeNode:\n",
        "    def __init__(self, label=None, attribute=None, branches=None):\n",
        "        self.label = label\n",
        "        self.attribute = attribute\n",
        "        self.branches = branches or {}\n",
        "\n",
        "    def get_label(self):\n",
        "        if self.label is not None:\n",
        "            return str(self.label)\n",
        "        elif self.attribute is not None:\n",
        "            return str(self.attribute)\n",
        "        else:\n",
        "            return \"\"\n",
        "\n",
        "    def is_leaf(self):\n",
        "        return not bool(self.branches)\n",
        "\n",
        "    def add_to_dot(self, dot):\n",
        "        node_id = str(id(self))\n",
        "        label = str(self.get_label())  # Ensure label is a string\n",
        "\n",
        "        if self.is_leaf():\n",
        "            # Set shape to rectangle for leaf nodes\n",
        "            dot.node(node_id, label=label, shape='rectangle')\n",
        "        else:\n",
        "            dot.node(node_id, label=label)\n",
        "\n",
        "        for branch_label, branch in self.branches.items():\n",
        "            branch.add_to_dot(dot)\n",
        "            dot.edge(node_id, str(id(branch)), label=str(branch_label))  # Ensure branch label is a string\n",
        "\n"
      ]
    },
    {
      "cell_type": "code",
      "source": [
        "def c45(examples, target_attribute, attributes, validation_data=None, root=None):\n",
        "    root = TreeNode()\n",
        "\n",
        "    # If all examples are positive, return a single-node tree with label = 'Play'\n",
        "    if all(example[target_attribute] == 'Pass' for example in examples if example['weight'] == 1 or example['weight'] == 0):\n",
        "        weight_sum = sum(example['weight'] for example in examples)\n",
        "        error_sum = sum(example['weight'] for example in examples if not (example[target_attribute] == 'Pass'))\n",
        "        root.label = f'Pass ({weight_sum:.1f}/{error_sum:.1f})'\n",
        "\n",
        "    # If all examples are negative, return a single-node tree with label = \"Don't Play\"\n",
        "    elif all(example[target_attribute] == 'Fail' for example in examples if example['weight'] == 1 or example['weight'] == 0):\n",
        "        weight_sum = sum(example['weight'] for example in examples)\n",
        "        error_sum = sum(example['weight'] for example in examples if not (example[target_attribute] == 'Fail'))\n",
        "        root.label = f'Fail ({weight_sum:.1f}/{error_sum:.1f})'\n",
        "\n",
        "    # If attributes is empty, return a single-node tree with label = most common value of Targetattribute\n",
        "    elif not attributes:\n",
        "        root.label = most_common_value(examples, target_attribute)\n",
        "\n",
        "    else:\n",
        "        # Choose the best attribute to split on\n",
        "        best_attribute, threshold = choose_best_attribute(examples, target_attribute, attributes)\n",
        "\n",
        "        examples_with_nan = [example for example in examples if pd.isna(example.get(best_attribute))]\n",
        "        examples_not_nan = [example for example in examples if not pd.isna(example.get(best_attribute))]\n",
        "        len_of_not_null = len(examples_not_nan)\n",
        "\n",
        "        for example in examples_not_nan:\n",
        "            if example['weight'] == 0:\n",
        "                example['weight'] = 1\n",
        "            else:\n",
        "                example['weight'] *= 1\n",
        "\n",
        "        # Split the examples based on the chosen attribute\n",
        "        subsets = {}\n",
        "        if attribute_type_mapping[best_attribute] == 0:\n",
        "            root.attribute = best_attribute\n",
        "            attribute_values = attributes_dict[best_attribute]\n",
        "            for value in attribute_values:\n",
        "                subsets[value] = [example for example in examples_not_nan if example[best_attribute] == value]\n",
        "                len_of_attr_val = sum(1 for example in examples_not_nan if example[best_attribute] == value)\n",
        "                if len_of_not_null != 0:\n",
        "                    w = len_of_attr_val/len_of_not_null\n",
        "                    ex_copy = copy.deepcopy(examples_with_nan)\n",
        "                    for example in ex_copy:\n",
        "                        example['weight'] = w\n",
        "\n",
        "                    subsets[value].extend(ex_copy)\n",
        "                else:\n",
        "                    subsets[value] = [example for example in examples_with_nan if example[best_attribute] == value]\n",
        "        else:\n",
        "            subsets['yes'] = [example for example in examples if float(example[best_attribute]) <= threshold]\n",
        "            subsets['no'] = [example for example in examples if float(example[best_attribute]) > threshold]\n",
        "            best_attribute = f\"{best_attribute} <= {threshold}\"\n",
        "            root.attribute = best_attribute\n",
        "            attributes_dict[best_attribute] = ['yes', 'no']\n",
        "\n",
        "        for value in subsets:\n",
        "            if not subsets[value]:\n",
        "                # If subset is empty, add a leaf node with label = most common value of Targetattribute\n",
        "                leaf = TreeNode(label=most_common_value(examples, target_attribute))\n",
        "                root.branches[value] = leaf\n",
        "            else:\n",
        "                # Recursively add subtree\n",
        "                subtree = c45(subsets[value], target_attribute, [attr for attr in attributes if attr != best_attribute])\n",
        "                root.branches[value] = subtree\n",
        "\n",
        "    return root\n"
      ],
      "metadata": {
        "id": "045BHO8qazdF"
      },
      "execution_count": 3,
      "outputs": []
    },
    {
      "cell_type": "code",
      "source": [
        "def most_common_value(examples, target_attribute):\n",
        "    # Return the most common value of the target attribute in the given examples\n",
        "    positive_count = sum(1 for example in examples if example[target_attribute] == 'Pass')\n",
        "    negative_count = sum(1 for example in examples if example[target_attribute] == \"Fail\")\n",
        "    return 'Pass' if positive_count >= negative_count else \"Fail\"\n"
      ],
      "metadata": {
        "id": "ilErKAqda9-3"
      },
      "execution_count": 4,
      "outputs": []
    },
    {
      "cell_type": "code",
      "source": [
        "# Function to compute entropy of a set\n",
        "def compute_entropy(labels):\n",
        "    unique_labels = labels.unique()\n",
        "    entropy = 0.0\n",
        "\n",
        "    for label in unique_labels:\n",
        "        prob = (labels == label).sum() / len(labels)\n",
        "        entropy -= prob * log2(prob)\n",
        "\n",
        "    return entropy\n",
        "\n",
        "# Function to compute entropy of a split\n",
        "def compute_split_entropy(left_labels, right_labels, target_column):\n",
        "    total_length = len(left_labels) + len(right_labels)\n",
        "    left_weight = len(left_labels) / total_length\n",
        "    right_weight = len(right_labels) / total_length\n",
        "\n",
        "    left_entropy = compute_entropy(left_labels[target_column])\n",
        "    right_entropy = compute_entropy(right_labels[target_column])\n",
        "\n",
        "    split_entropy = left_weight * left_entropy + right_weight * right_entropy\n",
        "    return split_entropy\n",
        "\n",
        "# Function to compute split information for gain ratio\n",
        "def compute_split_info(left_subset, right_subset, continuous_attribute):\n",
        "    total_length = len(left_subset) + len(right_subset)\n",
        "    left_weight = len(left_subset) / total_length\n",
        "    right_weight = len(right_subset) / total_length\n",
        "\n",
        "    left_values = left_subset[continuous_attribute].unique()\n",
        "    right_values = right_subset[continuous_attribute].unique()\n",
        "\n",
        "    left_info = -sum((len(left_subset[left_subset[continuous_attribute] == value]) / len(left_subset)) * log2(len(left_subset[left_subset[continuous_attribute] == value]) / len(left_subset)) for value in left_values if len(left_subset[left_subset[continuous_attribute] == value]) > 0)\n",
        "\n",
        "    right_info = -sum((len(right_subset[right_subset[continuous_attribute] == value]) / len(right_subset)) * log2(len(right_subset[right_subset[continuous_attribute] == value]) / len(right_subset)) for value in right_values if len(right_subset[right_subset[continuous_attribute] == value]) > 0)\n",
        "\n",
        "    split_info = left_weight * left_info + right_weight * right_info\n",
        "    return split_info\n",
        "\n"
      ],
      "metadata": {
        "id": "nul8XDSwbu0z"
      },
      "execution_count": 5,
      "outputs": []
    },
    {
      "cell_type": "code",
      "source": [
        "def compute_categorical_gain_ratio(subset, target_column, attribute):\n",
        "    subset = pd.DataFrame(subset)\n",
        "    initial_entropy = compute_entropy(subset[target_column])\n",
        "\n",
        "    # Extract unique values of the 'attribute' from a subset, remove occurrences of 'nan', and calculates the fraction (F) of non-'nan' values\n",
        "    attribute_values = subset[attribute].unique()\n",
        "    attribute_values_without_nan = attribute_values[pd.notna(attribute_values)]\n",
        "    F = len(attribute_values_without_nan)/len(attribute_values)\n",
        "\n",
        "    weighted_entropy = 0.0\n",
        "    split_info = 0.0\n",
        "\n",
        "    for value in attribute_values_without_nan:\n",
        "        if pd.isna(value):\n",
        "            value_subset = subset[pd.isna(subset[attribute])]\n",
        "        else:\n",
        "            value_subset = subset[subset[attribute] == value]\n",
        "        value_weight = len(value_subset) / len(subset)\n",
        "\n",
        "        value_entropy = compute_entropy(value_subset[target_column])\n",
        "        weighted_entropy += value_weight * value_entropy\n",
        "\n",
        "        split_info -= value_weight * log2(value_weight)\n",
        "\n",
        "    gain = F*(initial_entropy - weighted_entropy)\n",
        "    gain_ratio = gain / split_info if split_info != 0 else 0.0\n",
        "\n",
        "    return gain_ratio\n",
        "\n",
        "\n",
        "def calculate_continuous_gain_ratio(examples, target_attribute, attribute):\n",
        "\n",
        "    # Specify the continuous attribute and the target column\n",
        "    continuous_attribute = attribute\n",
        "    target_column = target_attribute\n",
        "\n",
        "    df = pd.DataFrame(examples)\n",
        "\n",
        "    # Sort the DataFrame based on the continuous attribute\n",
        "    df_sorted = df.sort_values(by=continuous_attribute)\n",
        "\n",
        "    # Compute initial entropy before the split\n",
        "    initial_entropy = compute_entropy(df_sorted[target_column])\n",
        "\n",
        "    # Initialize variables to keep track of best split\n",
        "    best_gain_ratio = 0.0\n",
        "    best_threshold = None\n",
        "\n",
        "    # Iterate through possible split points\n",
        "    for i in range(1, len(df_sorted)):\n",
        "        #if df_sorted.iloc[i - 1][continuous_attribute] == df_sorted.iloc[i][continuous_attribute]:\n",
        "        #    continue\n",
        "        threshold = (float(df_sorted.iloc[i - 1][continuous_attribute]) + float(df_sorted.iloc[i][continuous_attribute])) / 2.0\n",
        "\n",
        "        # Split the data into two subsets based on the threshold\n",
        "        left_subset = df_sorted[df_sorted[continuous_attribute] <= threshold]\n",
        "        right_subset = df_sorted[df_sorted[continuous_attribute] > threshold]\n",
        "\n",
        "        # Calculate gain and split information for the current split\n",
        "        gain = initial_entropy - compute_split_entropy(left_subset, right_subset, target_column)\n",
        "        split_info = compute_split_info(left_subset, right_subset, continuous_attribute)\n",
        "\n",
        "        # Calculate gain ratio\n",
        "        gain_ratio = gain / split_info if split_info != 0 else 0.0\n",
        "\n",
        "        # Update best split if gain ratio is higher\n",
        "        if gain_ratio > best_gain_ratio:\n",
        "            best_gain_ratio = gain_ratio\n",
        "            best_threshold = threshold\n",
        "\n",
        "    # Return the maximum gain ratio\n",
        "    return best_gain_ratio, best_threshold\n",
        "\n"
      ],
      "metadata": {
        "id": "PVHAqkN6ywpI"
      },
      "execution_count": 15,
      "outputs": []
    },
    {
      "cell_type": "code",
      "source": [
        "def choose_best_attribute(examples, target_attribute, attributes):\n",
        "    best_attribute = None\n",
        "    best_gain_ratio = -1\n",
        "    threshold = -1\n",
        "    gain_threshold_list = {}\n",
        "\n",
        "    for attribute in attributes:\n",
        "        # Check if the attribute is continuous\n",
        "        if attribute_type_mapping[attribute] == 1:\n",
        "            gain_ratio, threshold = calculate_continuous_gain_ratio(examples, target_attribute, attribute)\n",
        "            gain_threshold_list[gain_ratio] = threshold\n",
        "\n",
        "        else:\n",
        "            gain_ratio = compute_categorical_gain_ratio(examples, target_attribute, attribute)\n",
        "            gain_threshold_list[gain_ratio] = threshold\n",
        "\n",
        "        if gain_ratio > best_gain_ratio:\n",
        "            best_gain_ratio = gain_ratio\n",
        "            best_attribute = attribute\n",
        "\n",
        "    return best_attribute, gain_threshold_list[best_gain_ratio]\n"
      ],
      "metadata": {
        "id": "YkakITH2robf"
      },
      "execution_count": 7,
      "outputs": []
    },
    {
      "cell_type": "code",
      "source": [
        "def print_tree(node, indent=0):\n",
        "    if node.label is not None:\n",
        "        print(\"  \" * indent + f\"Decision: {node.label}\")\n",
        "    else:\n",
        "        print(\"  \" * indent + f\"Attribute: {node.attribute}\")\n",
        "        for value, subtree in node.branches.items():\n",
        "            print(\"  \" * (indent + 1) + f\"Value: {value}\")\n",
        "            print_tree(subtree, indent + 2)\n"
      ],
      "metadata": {
        "id": "eLRJQjCHbgyd"
      },
      "execution_count": 8,
      "outputs": []
    },
    {
      "cell_type": "code",
      "source": [
        "def print_leaf(node):\n",
        "    leaves = []  # Use a Python list, not a NumPy array\n",
        "\n",
        "    if node.label is not None:\n",
        "        return [node.label]  # Return a list with the label\n",
        "\n",
        "    for value, subtree in node.branches.items():\n",
        "        leaves.extend(print_leaf(subtree))  # Use extend instead of append\n",
        "\n",
        "    return leaves"
      ],
      "metadata": {
        "id": "D6lKlukbkl-6"
      },
      "execution_count": 9,
      "outputs": []
    },
    {
      "cell_type": "code",
      "source": [
        "# Load data from Excel file\n",
        "file_path = '/content/Book5.xlsx'\n",
        "df = pd.read_excel(file_path)\n",
        "\n",
        "# Example attributes and target_attribute\n",
        "attributes = df.columns[:-1].tolist()\n",
        "target_attribute = df.columns[-1]\n",
        "\n",
        "# Adding a column named \"weight\" with default values of 0\n",
        "df['weight'] = 0\n",
        "\n",
        "# Create a dictionary with unique attribute values\n",
        "attributes_dict = {col: df[col].dropna().unique().tolist() for col in df.columns}\n",
        "\n",
        "# Initialize the attribute type mapping dictionary\n",
        "attribute_type_mapping = {}\n",
        "\n",
        "# Iterate over columns and classify attributes\n",
        "for attribute in df.columns:\n",
        "    # Check if an attribute is categorical or continuous\n",
        "    is_float = pd.to_numeric(df[attribute], errors='coerce').notnull().all()\n",
        "    num_unique_values = df[attribute].nunique()\n",
        "\n",
        "    if is_float and num_unique_values > 2:\n",
        "        attribute_type_mapping[attribute] = 1  # Continuous\n",
        "    else:\n",
        "        attribute_type_mapping[attribute] = 0  # Categorical\n",
        "\n",
        "# Example usage\n",
        "tree = c45(df.to_dict(orient='records'), target_attribute, attributes)\n",
        "print_tree(tree)\n",
        "\n",
        "# Create a Digraph object\n",
        "dot = Digraph(comment='Tree')\n",
        "\n",
        "# Add nodes and edges to the Digraph\n",
        "tree.add_to_dot(dot)\n",
        "\n",
        "# Render the tree in Colab\n",
        "dot.render(filename='tree1', format='png', cleanup=True, engine='dot')\n",
        "\n",
        "# Display the tree image in Colab\n",
        "from IPython.display import Image\n",
        "Image(filename='tree1.png')"
      ],
      "metadata": {
        "colab": {
          "base_uri": "https://localhost:8080/",
          "height": 464
        },
        "id": "jiZzScm6bmjt",
        "outputId": "02c769fd-5728-492d-a816-2665614712d2"
      },
      "execution_count": 16,
      "outputs": [
        {
          "output_type": "stream",
          "name": "stdout",
          "text": [
            "Attribute: B <= 10.0\n",
            "  Value: yes\n",
            "    Attribute: A <= 20.0\n",
            "      Value: yes\n",
            "        Decision: Fail (31.0/0.0)\n",
            "      Value: no\n",
            "        Decision: Pass (17.0/0.0)\n",
            "  Value: no\n",
            "    Decision: Pass (52.0/0.0)\n"
          ]
        },
        {
          "output_type": "execute_result",
          "data": {
            "image/png": "[encoded data removed]",
            "text/plain": [
              "<IPython.core.display.Image object>"
            ]
          },
          "metadata": {},
          "execution_count": 16
        }
      ]
    },
    {
      "cell_type": "code",
      "source": [
        "def predicted_error_rate(n_value, k_value):# Function representing the cumulative binomial distribution equation\n",
        "    def cumulative_binomial_eq(p, k, n):\n",
        "        return abs(binom.cdf(k, n, p) - 0.25)\n",
        "\n",
        "    # Solve for p using minimize_scalar with bounds\n",
        "    result = minimize_scalar(cumulative_binomial_eq, bounds=(0, 1), args=(k_value, n_value), method='bounded')\n",
        "    return result.x\n",
        "\n",
        "def can_prune(node, new_leaf = None):\n",
        "    leaf_labels = print_leaf(node)\n",
        "    if 'Pass' not in leaf_labels[0]:\n",
        "        leaf_labels = leaf_labels[::-1]\n",
        "    NE_list = []\n",
        "\n",
        "    for each in leaf_labels:\n",
        "        split_case = each.split()\n",
        "        string_list = split_case[-1][1:-1].split('/')\n",
        "        float_list = [float(element) for element in string_list]\n",
        "        NE_list.append(float_list)\n",
        "\n",
        "    predicted_error_before_pruning = NE_list[0][0] * predicted_error_rate(NE_list[0][0], NE_list[0][1]) + NE_list[1][0] * predicted_error_rate(NE_list[0][0], NE_list[1][1])\n",
        "    predicted_error_after_pruning = (NE_list[0][0] + NE_list[1][0]) * predicted_error_rate((NE_list[0][0] + NE_list[1][1]), (NE_list[0][1] + NE_list[1][0]))\n",
        "\n",
        "    E = NE_list[0][0] + NE_list[1][1]\n",
        "    N = NE_list[0][1] + NE_list[1][0]\n",
        "\n",
        "    if NE_list[0][0] >= NE_list[1][0]:\n",
        "        new_leaf = f'Pass ({N}/{E})'\n",
        "    else:\n",
        "        new_leaf = f'Fail ({N}/{E})'\n",
        "    print(predicted_error_before_pruning, predicted_error_after_pruning)\n",
        "    return predicted_error_before_pruning >= predicted_error_after_pruning, new_leaf\n"
      ],
      "metadata": {
        "id": "HmWCAp2EJLfF"
      },
      "execution_count": 11,
      "outputs": []
    },
    {
      "cell_type": "code",
      "source": [
        "def process_tree(node):\n",
        "    if not node.is_leaf():\n",
        "        processed_branches = {}\n",
        "        for value, subtree in node.branches.items():\n",
        "            processed_subtree = process_tree(subtree)\n",
        "            processed_branches[value] = processed_subtree\n",
        "\n",
        "        # Check your condition here\n",
        "        if all(processed_subtree.is_leaf() for processed_subtree in processed_branches.values()):\n",
        "            result = can_prune(node)\n",
        "            if result[0]:  # Replace with your actual condition\n",
        "                # If condition is true, make the current node a leaf\n",
        "                leaf_label = result[1] # Replace with appropriate label\n",
        "                return TreeNode(label=leaf_label)\n",
        "\n",
        "        # If condition is not met or not applicable, keep the node unchanged\n",
        "        return TreeNode(attribute=node.attribute, branches=processed_branches)\n",
        "\n",
        "    # If the node is already a leaf, no further processing needed\n",
        "    return node\n"
      ],
      "metadata": {
        "id": "w8MnHBTJteOm"
      },
      "execution_count": 12,
      "outputs": []
    },
    {
      "cell_type": "code",
      "source": [
        "tree1 = process_tree(tree)\n",
        "\n",
        "# Create a Digraph object\n",
        "dot = Digraph(comment='Tree')\n",
        "\n",
        "# Add nodes and edges to the Digraph\n",
        "tree1.add_to_dot(dot)\n",
        "\n",
        "# Render the tree in Colab\n",
        "dot.render(filename='tree2', format='png', cleanup=True, engine='dot')\n",
        "\n",
        "# Display the tree image in Colab\n",
        "from IPython.display import Image\n",
        "Image(filename='tree2.png')"
      ],
      "metadata": {
        "colab": {
          "base_uri": "https://localhost:8080/",
          "height": 325
        },
        "id": "sPcJ6jKFz3SE",
        "outputId": "78780eef-b1b6-4a5d-c1a1-78813a7eb83c"
      },
      "execution_count": 13,
      "outputs": [
        {
          "output_type": "stream",
          "name": "stdout",
          "text": [
            "3.7589005868116665 47.999713878672644\n"
          ]
        },
        {
          "output_type": "execute_result",
          "data": {
            "image/png": "[encoded data removed]",
            "text/plain": [
              "<IPython.core.display.Image object>"
            ]
          },
          "metadata": {},
          "execution_count": 13
        }
      ]
    },
    {
      "cell_type": "code",
      "source": [],
      "metadata": {
        "id": "Enu4UiFm1bqD"
      },
      "execution_count": 13,
      "outputs": []
    }
  ]
}